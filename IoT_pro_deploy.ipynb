{
  "nbformat": 4,
  "nbformat_minor": 0,
  "metadata": {
    "colab": {
      "name": "IoT_pro_deploy.ipynb",
      "provenance": [],
      "collapsed_sections": [],
      "authorship_tag": "ABX9TyPqwHVrK6Xu319dg2/+jtpO",
      "include_colab_link": true
    },
    "kernelspec": {
      "name": "python3",
      "display_name": "Python 3"
    }
  },
  "cells": [
    {
      "cell_type": "markdown",
      "metadata": {
        "id": "view-in-github",
        "colab_type": "text"
      },
      "source": [
        "<a href=\"https://colab.research.google.com/github/MdJohar20/IoT_Project/blob/main/IoT_pro_deploy.ipynb\" target=\"_parent\"><img src=\"https://colab.research.google.com/assets/colab-badge.svg\" alt=\"Open In Colab\"/></a>"
      ]
    },
    {
      "cell_type": "code",
      "metadata": {
        "id": "c6vSgj1Dwet_"
      },
      "source": [
        "!pip install adafruit-io\n",
        "x = \"Phoenix321\" \n",
        "y = \"aio_XGNN46Hqy5zi6WH7gIUl7MeuFicu\" \n",
        "from Adafruit_IO import Client, Feed\n",
        "aio = Client(x,y)\n",
        "# Create a feed\n",
        "new = Feed(name='walter_mitty_bot')  # Feed name is given \"walter_mitty_bot\"\n",
        "result = aio.create_feed(new)\n",
        "result\n",
        "from Adafruit_IO import Data\n",
        "!pip install python-telegram-bot\n",
        "from Adafruit_IO import Client,Data\n",
        "from telegram.ext import Updater,CommandHandler\n",
        "def on(bot,update):\n",
        "  chat_id = update.message.chat_id    \n",
        "  aio.create_data('walter_mitty_bot',Data(value = 1))\n",
        "  bot.send_message(chat_id ,text =\"Light ON\")\n",
        "  bot.send_photo(chat_id, photo='https://www.securityroundtable.org/wp-content/uploads/2019/03/AdobeStock_261504199-scaled.jpeg')\n",
        "  \n",
        "\n",
        "def off(bot,update):\n",
        "  chat_id = update.message.chat_id\n",
        "  aio.create_data('walter_mitty_bot',Data(value = 0))\n",
        "  bot.send_message(chat_id, text =\"Light OFF\")\n",
        "  bot.send_photo(chat_id=update.effective_chat.id,photo='https://ak.picdn.net/shutterstock/videos/1027638404/thumb/1.jpg?ip=x480')\n",
        "\n",
        "updater = Updater('1486106338:AAEtU1NKlO7b5FEx9vEtuC8JrNA8Pv1N4kI')     #Use Telegram Token HTTP API\n",
        "dp =updater.dispatcher\n",
        "dp.add_handler(CommandHandler('on',on))\n",
        "dp.add_handler(CommandHandler('off',off))\n",
        "updater.start_polling()\n",
        "updater.idle()"
      ],
      "execution_count": null,
      "outputs": []
    }
  ]
}