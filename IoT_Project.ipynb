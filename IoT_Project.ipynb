{
  "nbformat": 4,
  "nbformat_minor": 0,
  "metadata": {
    "colab": {
      "name": "IoT_Project.ipynb",
      "provenance": [],
      "collapsed_sections": [],
      "authorship_tag": "ABX9TyMsi34dmD9DfSFG0ZVuJFl5",
      "include_colab_link": true
    },
    "kernelspec": {
      "name": "python3",
      "display_name": "Python 3"
    }
  },
  "cells": [
    {
      "cell_type": "markdown",
      "metadata": {
        "id": "view-in-github",
        "colab_type": "text"
      },
      "source": [
        "<a href=\"https://colab.research.google.com/github/MdJohar20/IoT_Project/blob/main/IoT_Project.ipynb\" target=\"_parent\"><img src=\"https://colab.research.google.com/assets/colab-badge.svg\" alt=\"Open In Colab\"/></a>"
      ]
    },
    {
      "cell_type": "markdown",
      "metadata": {
        "id": "Yk-eLWW2Sttp"
      },
      "source": [
        "# Controlling the Light using Telegram Bot"
      ]
    },
    {
      "cell_type": "markdown",
      "metadata": {
        "id": "5xdzaLBuRYbD"
      },
      "source": [
        "## 1. Setting up Adafruit IO "
      ]
    },
    {
      "cell_type": "code",
      "metadata": {
        "id": "_QufsezaJqqb",
        "colab": {
          "base_uri": "https://localhost:8080/"
        },
        "outputId": "931d9dae-aec1-457e-bc09-e68dd06cd080"
      },
      "source": [
        "#installing the adafruit io requirement files\n",
        "!pip install adafruit-io"
      ],
      "execution_count": 2,
      "outputs": [
        {
          "output_type": "stream",
          "text": [
            "Requirement already satisfied: adafruit-io in /usr/local/lib/python3.6/dist-packages (2.4.0)\n",
            "Requirement already satisfied: paho-mqtt in /usr/local/lib/python3.6/dist-packages (from adafruit-io) (1.5.1)\n",
            "Requirement already satisfied: requests in /usr/local/lib/python3.6/dist-packages (from adafruit-io) (2.23.0)\n",
            "Requirement already satisfied: certifi>=2017.4.17 in /usr/local/lib/python3.6/dist-packages (from requests->adafruit-io) (2020.6.20)\n",
            "Requirement already satisfied: idna<3,>=2.5 in /usr/local/lib/python3.6/dist-packages (from requests->adafruit-io) (2.10)\n",
            "Requirement already satisfied: chardet<4,>=3.0.2 in /usr/local/lib/python3.6/dist-packages (from requests->adafruit-io) (3.0.4)\n",
            "Requirement already satisfied: urllib3!=1.25.0,!=1.25.1,<1.26,>=1.21.1 in /usr/local/lib/python3.6/dist-packages (from requests->adafruit-io) (1.24.3)\n"
          ],
          "name": "stdout"
        }
      ]
    },
    {
      "cell_type": "code",
      "metadata": {
        "id": "8-pvQAAwJ8GQ"
      },
      "source": [
        "#ADAFRUIT_IO_USERNAME\n",
        "x = \"ADAFRUIT_IO_USERNAME\" \n",
        "\n",
        "#ADAFRUIT_IO_KEY\n",
        "y = \"ADAFRUIT_IO_KEY\"  "
      ],
      "execution_count": 3,
      "outputs": []
    },
    {
      "cell_type": "code",
      "metadata": {
        "id": "QVyEvuM7Kmel"
      },
      "source": [
        "from Adafruit_IO import Client, Feed\n",
        "aio = Client(x,y)"
      ],
      "execution_count": 4,
      "outputs": []
    },
    {
      "cell_type": "code",
      "metadata": {
        "id": "bj3KnSZZKqLN"
      },
      "source": [
        "# Create a feed\n",
        "new = Feed(name='walter_mitty_bot')  # Feed name is given \"walter_mitty_bot\""
      ],
      "execution_count": 5,
      "outputs": []
    },
    {
      "cell_type": "code",
      "metadata": {
        "id": "Hny1TnK1LrEy"
      },
      "source": [
        "result = aio.create_feed(new)"
      ],
      "execution_count": 6,
      "outputs": []
    },
    {
      "cell_type": "code",
      "metadata": {
        "id": "K0mvp4LHLw1J",
        "colab": {
          "base_uri": "https://localhost:8080/"
        },
        "outputId": "8104e400-75cd-411f-ee44-6d27a6fb0f51"
      },
      "source": [
        "#to show or display the properties of newly created feed \n",
        "result"
      ],
      "execution_count": 7,
      "outputs": [
        {
          "output_type": "execute_result",
          "data": {
            "text/plain": [
              "Feed(name='walter_mitty_bot', key='walter-mitty-bot', description=None, unit_type=None, unit_symbol=None, history=True, visibility='private', license=None, status_notify=False, status_timeout=4320)"
            ]
          },
          "metadata": {
            "tags": []
          },
          "execution_count": 7
        }
      ]
    },
    {
      "cell_type": "markdown",
      "metadata": {
        "id": "iu49IPxSTf3l"
      },
      "source": [
        "As you can see that, it shows :-\n",
        "\n",
        "*   **Name :-** walter_mitty_bot\n",
        "*   **Key :-** walter_mitty_bot\n",
        "*   **Description :-** None\n",
        "*   **Unit_Type :-** None\n",
        "*   **Unit_Symbol :-** None\n",
        "*   **History :-** True\n",
        "*   **Visibility :-** Private \n",
        "\n",
        "\n",
        "  ........and so on.\n",
        "\n",
        "\n",
        "\n",
        "\n",
        "\n",
        "\n",
        "\n",
        "\n",
        "\n"
      ]
    },
    {
      "cell_type": "code",
      "metadata": {
        "id": "HangZUDPL2HS"
      },
      "source": [
        "from Adafruit_IO import Data"
      ],
      "execution_count": 8,
      "outputs": []
    },
    {
      "cell_type": "markdown",
      "metadata": {
        "id": "V1BnrQm3Ruzy"
      },
      "source": [
        "# 2. Setting up Telegram Bot"
      ]
    },
    {
      "cell_type": "code",
      "metadata": {
        "colab": {
          "base_uri": "https://localhost:8080/"
        },
        "id": "JnrPMmAZNRtI",
        "outputId": "18a983f6-fe22-4d33-9f8e-e437e7a3a120"
      },
      "source": [
        "#installing the telegram-bot requirement files\n",
        "!pip install python-telegram-bot"
      ],
      "execution_count": 9,
      "outputs": [
        {
          "output_type": "stream",
          "text": [
            "Requirement already satisfied: python-telegram-bot in /usr/local/lib/python3.6/dist-packages (13.0)\n",
            "Requirement already satisfied: tornado>=5.1 in /usr/local/lib/python3.6/dist-packages (from python-telegram-bot) (5.1.1)\n",
            "Requirement already satisfied: decorator>=4.4.0 in /usr/local/lib/python3.6/dist-packages (from python-telegram-bot) (4.4.2)\n",
            "Requirement already satisfied: cryptography in /usr/local/lib/python3.6/dist-packages (from python-telegram-bot) (3.2.1)\n",
            "Requirement already satisfied: APScheduler==3.6.3 in /usr/local/lib/python3.6/dist-packages (from python-telegram-bot) (3.6.3)\n",
            "Requirement already satisfied: certifi in /usr/local/lib/python3.6/dist-packages (from python-telegram-bot) (2020.6.20)\n",
            "Requirement already satisfied: cffi!=1.11.3,>=1.8 in /usr/local/lib/python3.6/dist-packages (from cryptography->python-telegram-bot) (1.14.3)\n",
            "Requirement already satisfied: six>=1.4.1 in /usr/local/lib/python3.6/dist-packages (from cryptography->python-telegram-bot) (1.15.0)\n",
            "Requirement already satisfied: pytz in /usr/local/lib/python3.6/dist-packages (from APScheduler==3.6.3->python-telegram-bot) (2018.9)\n",
            "Requirement already satisfied: setuptools>=0.7 in /usr/local/lib/python3.6/dist-packages (from APScheduler==3.6.3->python-telegram-bot) (50.3.2)\n",
            "Requirement already satisfied: tzlocal>=1.2 in /usr/local/lib/python3.6/dist-packages (from APScheduler==3.6.3->python-telegram-bot) (1.5.1)\n",
            "Requirement already satisfied: pycparser in /usr/local/lib/python3.6/dist-packages (from cffi!=1.11.3,>=1.8->cryptography->python-telegram-bot) (2.20)\n"
          ],
          "name": "stdout"
        }
      ]
    },
    {
      "cell_type": "code",
      "metadata": {
        "id": "IM8QyPnYP6_2"
      },
      "source": [
        "from Adafruit_IO import Client,Data\n",
        "from telegram.ext import Updater,CommandHandler"
      ],
      "execution_count": 10,
      "outputs": []
    },
    {
      "cell_type": "markdown",
      "metadata": {
        "id": "ZrvDb62JrlCn"
      },
      "source": [
        ""
      ]
    },
    {
      "cell_type": "code",
      "metadata": {
        "id": "ACctudATQCrN"
      },
      "source": [
        "#\n",
        "def on(bot,update):\n",
        "  chat_id = update.message.chat_id    \n",
        "  aio.create_data('walter_mitty_bot',Data(value = 1))\n",
        "  bot.send_message(chat_id ,text =\"Light ON\")\n",
        "  bot.send_photo(chat_id, photo='https://www.securityroundtable.org/wp-content/uploads/2019/03/AdobeStock_261504199-scaled.jpeg')\n",
        "  \n",
        "\n",
        "def off(bot,update):\n",
        "  chat_id = update.message.chat_id\n",
        "  aio.create_data('walter_mitty_bot',Data(value = 0))\n",
        "  bot.send_message(chat_id, text =\"Light OFF\")\n",
        "  bot.send_photo(chat_id=update.effective_chat.id,photo='https://ak.picdn.net/shutterstock/videos/1027638404/thumb/1.jpg?ip=x480')"
      ],
      "execution_count": 12,
      "outputs": []
    },
    {
      "cell_type": "code",
      "metadata": {
        "id": "az0uZBCzQyz0"
      },
      "source": [
        "updater = Updater('TELEGRAM_TOKEN')     #Use Telegram Token HTTP API\n",
        "dp =updater.dispatcher\n"
      ],
      "execution_count": 13,
      "outputs": []
    },
    {
      "cell_type": "code",
      "metadata": {
        "id": "3IkFWtdJpqUV"
      },
      "source": [
        "dp.add_handler(CommandHandler('on',on))\n",
        "dp.add_handler(CommandHandler('off',off))\n"
      ],
      "execution_count": 14,
      "outputs": []
    },
    {
      "cell_type": "code",
      "metadata": {
        "id": "nWq6MGDUpszl"
      },
      "source": [
        "updater.start_polling()\n",
        "updater.idle()"
      ],
      "execution_count": 15,
      "outputs": []
    }
  ]
}